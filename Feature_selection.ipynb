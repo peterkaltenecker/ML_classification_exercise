{
 "cells": [
  {
   "cell_type": "code",
   "execution_count": 7,
   "id": "104b4221-e3a8-4692-a81d-c3888d17364b",
   "metadata": {},
   "outputs": [],
   "source": [
    "import numpy as np\n",
    "import pandas as pd\n",
    "import matplotlib.pyplot as plt\n",
    "%matplotlib inline\n",
    "from sklearn.datasets import load_breast_cancer\n",
    "from sklearn.model_selection import train_test_split\n",
    "from sklearn.feature_selection import VarianceThreshold"
   ]
  },
  {
   "cell_type": "markdown",
   "id": "92963c6e-542a-4dd4-9663-5e63bf7c46e1",
   "metadata": {},
   "source": [
    "### Data import"
   ]
  },
  {
   "cell_type": "code",
   "execution_count": 4,
   "id": "8cf905e0-3363-49b7-afa5-db18ef4b1263",
   "metadata": {},
   "outputs": [],
   "source": [
    "data = load_breast_cancer(as_frame=True)"
   ]
  },
  {
   "cell_type": "markdown",
   "id": "2b05c9df-5882-4f7d-ac01-30f0f3598db9",
   "metadata": {},
   "source": [
    "### Data preparation"
   ]
  },
  {
   "cell_type": "code",
   "execution_count": 5,
   "id": "c77df4bd-3f26-4f29-9e6c-89feedfb5df4",
   "metadata": {},
   "outputs": [],
   "source": [
    "# (separate) X and y\n",
    "X = data.data\n",
    "y = data.target"
   ]
  },
  {
   "cell_type": "code",
   "execution_count": 8,
   "id": "c85786af-5560-4395-a291-770ef7b3b356",
   "metadata": {},
   "outputs": [],
   "source": [
    "# train-test split\n",
    "X_train, X_test, y_train, y_test = train_test_split(X, y, test_size=0.3, random_state=101, shuffle=True)"
   ]
  },
  {
   "cell_type": "markdown",
   "id": "9698568b-9aae-4b14-b36d-226ea9394742",
   "metadata": {},
   "source": [
    "##### To avoid information leakage, feature selection will be performed only on the training set."
   ]
  },
  {
   "cell_type": "markdown",
   "id": "4c1a22fa-c9c5-4c47-9ffe-215cefd3029e",
   "metadata": {},
   "source": [
    "### Feature selection"
   ]
  },
  {
   "cell_type": "markdown",
   "id": "97fbf1ee-9219-4972-8e8c-97774d6ebab8",
   "metadata": {},
   "source": [
    "- Variance threshold"
   ]
  },
  {
   "cell_type": "code",
   "execution_count": 18,
   "id": "aa7135b0-5aba-43b3-8207-2be26084c1ed",
   "metadata": {},
   "outputs": [],
   "source": [
    "# remove features with a lor variance\n",
    "selector = VarianceThreshold(threshold=.25)   # drop features in which similarity is 75% or higher\n",
    "selection = selector.fit(X)   # fit the selector\n",
    "sel_index = selection.get_support()   # get the results for the features\n",
    "selected_features_VT = X_train.columns[sel_index]   # get the names of the selected features"
   ]
  },
  {
   "cell_type": "code",
   "execution_count": 20,
   "id": "0a6f5fa1-9f1b-4f85-877b-eb51f1c3db54",
   "metadata": {},
   "outputs": [
    {
     "data": {
      "text/plain": [
       "Index(['mean radius', 'mean texture', 'mean perimeter', 'mean area',\n",
       "       'texture error', 'perimeter error', 'area error', 'worst radius',\n",
       "       'worst texture', 'worst perimeter', 'worst area'],\n",
       "      dtype='object')"
      ]
     },
     "execution_count": 20,
     "metadata": {},
     "output_type": "execute_result"
    }
   ],
   "source": [
    "selected_features_VT"
   ]
  },
  {
   "cell_type": "markdown",
   "id": "2021b963-39e4-49fe-8ae3-8a899e84e3a4",
   "metadata": {},
   "source": [
    "- Mutual information score"
   ]
  },
  {
   "cell_type": "code",
   "execution_count": null,
   "id": "5ffcb326-8e4a-4d46-a236-b39678409e4e",
   "metadata": {},
   "outputs": [],
   "source": []
  }
 ],
 "metadata": {
  "kernelspec": {
   "display_name": "Python 3 (ipykernel)",
   "language": "python",
   "name": "python3"
  },
  "language_info": {
   "codemirror_mode": {
    "name": "ipython",
    "version": 3
   },
   "file_extension": ".py",
   "mimetype": "text/x-python",
   "name": "python",
   "nbconvert_exporter": "python",
   "pygments_lexer": "ipython3",
   "version": "3.11.4"
  }
 },
 "nbformat": 4,
 "nbformat_minor": 5
}
