{
 "cells": [
  {
   "cell_type": "code",
   "execution_count": 1,
   "id": "c9fdd826-971e-4851-a840-eb660a097786",
   "metadata": {},
   "outputs": [],
   "source": [
    "import numpy as np\n",
    "import pandas as pd\n",
    "from sklearn.datasets import load_breast_cancer\n",
    "from sklearn.model_selection import train_test_split\n",
    "from sklearn.preprocessing import StandardScaler\n",
    "from sklearn.linear_model import LogisticRegression\n",
    "from sklearn.ensemble import RandomForestClassifier, GradientBoostingClassifier\n",
    "from sklearn.svm import SVC\n",
    "from sklearn.metrics import accuracy_score, precision_score, recall_score, roc_auc_score"
   ]
  },
  {
   "cell_type": "markdown",
   "id": "e1bd9ee3-d523-4b1d-a6de-b70ad7938be6",
   "metadata": {},
   "source": [
    "### Data import"
   ]
  },
  {
   "cell_type": "code",
   "execution_count": 2,
   "id": "91530239-97d5-4fa9-9869-19cc40ffb4a3",
   "metadata": {},
   "outputs": [],
   "source": [
    "data = load_breast_cancer(as_frame=True)"
   ]
  },
  {
   "cell_type": "markdown",
   "id": "3929352d-6137-4570-a708-da5cbc8177f5",
   "metadata": {},
   "source": [
    "### Data preparation"
   ]
  },
  {
   "cell_type": "code",
   "execution_count": 3,
   "id": "5efce44e-1b7f-4232-90e2-e220fde9a0eb",
   "metadata": {},
   "outputs": [],
   "source": [
    "# (separate) X and y\n",
    "X = data.data\n",
    "y = data.target"
   ]
  },
  {
   "cell_type": "code",
   "execution_count": 4,
   "id": "60077624-202d-4bbb-b106-48575db976d8",
   "metadata": {},
   "outputs": [],
   "source": [
    "# train-test split\n",
    "X_train, X_test, y_train, y_test = train_test_split(X, y, test_size=0.3, random_state=101, shuffle=True)"
   ]
  },
  {
   "cell_type": "code",
   "execution_count": 5,
   "id": "3344d895-0982-4182-841b-2aa9c7688000",
   "metadata": {},
   "outputs": [],
   "source": [
    "# scale the data\n",
    "scaler = StandardScaler()\n",
    "\n",
    "X_train_sc = scaler.fit_transform(X_train)\n",
    "X_test_sc = scaler.transform(X_test)"
   ]
  },
  {
   "cell_type": "markdown",
   "id": "51cc16e7-7d6a-414b-a360-ea7983e8c09b",
   "metadata": {},
   "source": [
    "### Testing of different ML models"
   ]
  },
  {
   "cell_type": "code",
   "execution_count": 6,
   "id": "7ccc7964-fb8c-453f-b981-e8ed76669870",
   "metadata": {},
   "outputs": [],
   "source": [
    "# define models to test (for this comparison, default settings are used with every model)\n",
    "seed = 101\n",
    "log_model = LogisticRegression(random_state=seed)\n",
    "SVC_model = SVC(random_state=seed)\n",
    "GBC_model = GradientBoostingClassifier(random_state=seed)\n",
    "RF_model = RandomForestClassifier(random_state=seed)"
   ]
  },
  {
   "cell_type": "code",
   "execution_count": 7,
   "id": "3b3db407-6660-4325-b0ae-e5d73206721a",
   "metadata": {},
   "outputs": [],
   "source": [
    "# test the different models parallelly on the test set\n",
    "models = [log_model, SVC_model, RF_model, GBC_model]\n",
    "results = []\n",
    "\n",
    "for m in models:\n",
    "    m.fit(X_train_sc, y_train)\n",
    "    y_pred = m.predict(X_test_sc)\n",
    "    model_results = [str(m), accuracy_score(y_test, y_pred), precision_score(y_test, y_pred), \n",
    "                     recall_score(y_test, y_pred), roc_auc_score(y_test, y_pred)]\n",
    "    results.append(model_results)\n",
    "\n",
    "# create a df with the results\n",
    "test_results = pd.DataFrame(results, columns=('model', 'accuracy', 'precision', 'recall', 'ROC AUC'))"
   ]
  },
  {
   "cell_type": "code",
   "execution_count": 8,
   "id": "b50d6f03-f1a3-4d5f-abf8-a80afafd6cac",
   "metadata": {},
   "outputs": [
    {
     "data": {
      "text/html": [
       "<div>\n",
       "<style scoped>\n",
       "    .dataframe tbody tr th:only-of-type {\n",
       "        vertical-align: middle;\n",
       "    }\n",
       "\n",
       "    .dataframe tbody tr th {\n",
       "        vertical-align: top;\n",
       "    }\n",
       "\n",
       "    .dataframe thead th {\n",
       "        text-align: right;\n",
       "    }\n",
       "</style>\n",
       "<table border=\"1\" class=\"dataframe\">\n",
       "  <thead>\n",
       "    <tr style=\"text-align: right;\">\n",
       "      <th></th>\n",
       "      <th>model</th>\n",
       "      <th>accuracy</th>\n",
       "      <th>precision</th>\n",
       "      <th>recall</th>\n",
       "      <th>ROC AUC</th>\n",
       "    </tr>\n",
       "  </thead>\n",
       "  <tbody>\n",
       "    <tr>\n",
       "      <th>0</th>\n",
       "      <td>LogisticRegression(random_state=101)</td>\n",
       "      <td>0.976608</td>\n",
       "      <td>0.971963</td>\n",
       "      <td>0.990476</td>\n",
       "      <td>0.972511</td>\n",
       "    </tr>\n",
       "    <tr>\n",
       "      <th>1</th>\n",
       "      <td>SVC(random_state=101)</td>\n",
       "      <td>0.982456</td>\n",
       "      <td>0.981132</td>\n",
       "      <td>0.990476</td>\n",
       "      <td>0.980087</td>\n",
       "    </tr>\n",
       "    <tr>\n",
       "      <th>2</th>\n",
       "      <td>RandomForestClassifier(random_state=101)</td>\n",
       "      <td>0.953216</td>\n",
       "      <td>0.961905</td>\n",
       "      <td>0.961905</td>\n",
       "      <td>0.950649</td>\n",
       "    </tr>\n",
       "    <tr>\n",
       "      <th>3</th>\n",
       "      <td>GradientBoostingClassifier(random_state=101)</td>\n",
       "      <td>0.959064</td>\n",
       "      <td>0.962264</td>\n",
       "      <td>0.971429</td>\n",
       "      <td>0.955411</td>\n",
       "    </tr>\n",
       "  </tbody>\n",
       "</table>\n",
       "</div>"
      ],
      "text/plain": [
       "                                          model  accuracy  precision  \\\n",
       "0          LogisticRegression(random_state=101)  0.976608   0.971963   \n",
       "1                         SVC(random_state=101)  0.982456   0.981132   \n",
       "2      RandomForestClassifier(random_state=101)  0.953216   0.961905   \n",
       "3  GradientBoostingClassifier(random_state=101)  0.959064   0.962264   \n",
       "\n",
       "     recall   ROC AUC  \n",
       "0  0.990476  0.972511  \n",
       "1  0.990476  0.980087  \n",
       "2  0.961905  0.950649  \n",
       "3  0.971429  0.955411  "
      ]
     },
     "execution_count": 8,
     "metadata": {},
     "output_type": "execute_result"
    }
   ],
   "source": [
    "test_results"
   ]
  },
  {
   "cell_type": "markdown",
   "id": "d067e7b6-6d9c-460f-8607-98702bfc885c",
   "metadata": {},
   "source": [
    "##### SVM produces the best results with the default settings."
   ]
  },
  {
   "cell_type": "markdown",
   "id": "20249a76-ef26-4313-b4a5-3a3ba9277e2c",
   "metadata": {},
   "source": [
    "<br>"
   ]
  },
  {
   "cell_type": "code",
   "execution_count": 9,
   "id": "0395ba21-1b56-4936-8d79-97b06d20c392",
   "metadata": {},
   "outputs": [],
   "source": [
    "# test the different models parallelly on the train set to compare the results with the above\n",
    "models = [log_model, SVC_model, RF_model, GBC_model]\n",
    "results = []\n",
    "\n",
    "for m in models:\n",
    "    m.fit(X_train_sc, y_train)\n",
    "    y_pred = m.predict(X_train_sc)\n",
    "    model_results = [str(m), accuracy_score(y_train, y_pred), precision_score(y_train, y_pred), \n",
    "                     recall_score(y_train, y_pred), roc_auc_score(y_train, y_pred)]\n",
    "    results.append(model_results)\n",
    "\n",
    "# create a df with the results\n",
    "train_results = pd.DataFrame(results, columns=('model', 'accuracy', 'precision', 'recall', 'ROC AUC'))"
   ]
  },
  {
   "cell_type": "code",
   "execution_count": 10,
   "id": "943ae5a5-e7b7-46b9-9066-290e5d57c75b",
   "metadata": {},
   "outputs": [
    {
     "data": {
      "text/html": [
       "<div>\n",
       "<style scoped>\n",
       "    .dataframe tbody tr th:only-of-type {\n",
       "        vertical-align: middle;\n",
       "    }\n",
       "\n",
       "    .dataframe tbody tr th {\n",
       "        vertical-align: top;\n",
       "    }\n",
       "\n",
       "    .dataframe thead th {\n",
       "        text-align: right;\n",
       "    }\n",
       "</style>\n",
       "<table border=\"1\" class=\"dataframe\">\n",
       "  <thead>\n",
       "    <tr style=\"text-align: right;\">\n",
       "      <th></th>\n",
       "      <th>model</th>\n",
       "      <th>accuracy</th>\n",
       "      <th>precision</th>\n",
       "      <th>recall</th>\n",
       "      <th>ROC AUC</th>\n",
       "    </tr>\n",
       "  </thead>\n",
       "  <tbody>\n",
       "    <tr>\n",
       "      <th>0</th>\n",
       "      <td>LogisticRegression(random_state=101)</td>\n",
       "      <td>0.984925</td>\n",
       "      <td>0.984252</td>\n",
       "      <td>0.992063</td>\n",
       "      <td>0.982333</td>\n",
       "    </tr>\n",
       "    <tr>\n",
       "      <th>1</th>\n",
       "      <td>SVC(random_state=101)</td>\n",
       "      <td>0.982412</td>\n",
       "      <td>0.980392</td>\n",
       "      <td>0.992063</td>\n",
       "      <td>0.978908</td>\n",
       "    </tr>\n",
       "    <tr>\n",
       "      <th>2</th>\n",
       "      <td>RandomForestClassifier(random_state=101)</td>\n",
       "      <td>1.000000</td>\n",
       "      <td>1.000000</td>\n",
       "      <td>1.000000</td>\n",
       "      <td>1.000000</td>\n",
       "    </tr>\n",
       "    <tr>\n",
       "      <th>3</th>\n",
       "      <td>GradientBoostingClassifier(random_state=101)</td>\n",
       "      <td>1.000000</td>\n",
       "      <td>1.000000</td>\n",
       "      <td>1.000000</td>\n",
       "      <td>1.000000</td>\n",
       "    </tr>\n",
       "  </tbody>\n",
       "</table>\n",
       "</div>"
      ],
      "text/plain": [
       "                                          model  accuracy  precision  \\\n",
       "0          LogisticRegression(random_state=101)  0.984925   0.984252   \n",
       "1                         SVC(random_state=101)  0.982412   0.980392   \n",
       "2      RandomForestClassifier(random_state=101)  1.000000   1.000000   \n",
       "3  GradientBoostingClassifier(random_state=101)  1.000000   1.000000   \n",
       "\n",
       "     recall   ROC AUC  \n",
       "0  0.992063  0.982333  \n",
       "1  0.992063  0.978908  \n",
       "2  1.000000  1.000000  \n",
       "3  1.000000  1.000000  "
      ]
     },
     "execution_count": 10,
     "metadata": {},
     "output_type": "execute_result"
    }
   ],
   "source": [
    "train_results"
   ]
  },
  {
   "cell_type": "markdown",
   "id": "8d2aa118-22e7-4f60-b613-4f596f9166bd",
   "metadata": {},
   "source": [
    "##### RF and GBM models are definitely overfitted to the train set. This might be the reason for their poorer performance on the test set.\n",
    "##### The performance of SVM is very close to one another on both data sets."
   ]
  }
 ],
 "metadata": {
  "kernelspec": {
   "display_name": "Python 3 (ipykernel)",
   "language": "python",
   "name": "python3"
  },
  "language_info": {
   "codemirror_mode": {
    "name": "ipython",
    "version": 3
   },
   "file_extension": ".py",
   "mimetype": "text/x-python",
   "name": "python",
   "nbconvert_exporter": "python",
   "pygments_lexer": "ipython3",
   "version": "3.11.4"
  }
 },
 "nbformat": 4,
 "nbformat_minor": 5
}
